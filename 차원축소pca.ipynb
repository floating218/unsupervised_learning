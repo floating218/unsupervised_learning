{
 "cells": [
  {
   "cell_type": "markdown",
   "source": [
    "# PCA 요약\r\n",
    "\t• 공분산 행렬을 구한다. --> 데이터가 퍼진 정도와 방향대로 \r\n",
    "\t• 공분산 행렬을 고유분해해서 고유 벡터를 도출한다. \r\n",
    "\t• 데이터에서 평균을 빼서 균형을 맞춘 후 고유 벡터를 순차적으로 내적한다. \r\n",
    "\t• 고유벡터에 projection된 결과가 차원축소된 결과이다.  \r\n",
    "\r\n",
    "# PCA 진행 과정\r\n",
    "\t• 열은 각 feature (국어, 영어, 수학점수), 행은 각 데이터 (철수,영희)라고 할때 = X\r\n",
    "\t• 공분산 행렬을 구한다. 이 공분산 행렬은 선형변환 매트릭스(A) 처럼 작용할 것이다. \r\n",
    "\t\t○ X를 각 열별 평균값으로 나누어서, 중앙을 원점으로 옮겨준다. \r\n",
    "\t\t○ XtX 를 곱한 후, 데이터수 1/n를 곱한다. \r\n",
    "\t\t○ 그 결과, 대각선은 각 열이 퍼진 정도를 나타낸다. \r\n",
    "\t\t○ 그 결과, 대각선 뺀 나머지는 서로 다른 열의 상관관계 (함께 변하는 정도) 를 나타낸다. \r\n",
    "\t• 공분산 행렬을 고윳값 분해를 하면 -> 공분산 행렬의 고유벡터가 나올 것이다.\r\n",
    "\t\t○ 고유벡터는 공분산 행렬로 선형변환을 해도, 길이만 변할 뿐 방향은 변하지 않는다. \r\n",
    "\t\t○ 이 고유벡터는 차원 축소시 새로운 축으로 작용하게 된다. \r\n",
    "\t• 원래의 데이터에 열별 평균을 뺀다.\r\n",
    "\t• 그 데이터에 고유벡터를 곱해서 projection을 하면, 차원 축소를 할 수 있다. \r\n",
    "\t\t○ 고유벡터는 원래의 열 개수만큼 나오기 때문에, 가장 우선순위가 높은 고유벡터부터 원하는 차원 수만큼 projection한다. \r\n",
    "\r\n",
    "\r\n",
    "# 공분산 행렬 상세 설명\r\n",
    "\t• 그 데이터가 퍼진 방향을 설명해주는 행렬이다. \r\n",
    "\t• 만약 데이터에 공분산 행렬을 곱해주면 선형 변환이 되며\r\n",
    "\t• 가장 잘 설명해주는 방향으로 잡아 당기게 된다.  \r\n",
    "\r\n",
    "# 고유벡터 상세 설명\r\n",
    "\t• 선형변환 행렬을 고유분해하면 -> VΛV-1\r\n",
    "\t• 선형변환을 다음과 같이 3단계로 나눠준다 = V는 기존 벡터의 길이를 유지하면서 회전시킴 -> 람다는 벡터의 길이만 바꿔줌 -> V역행렬은 다시 원래 위치로 회전시킴\r\n",
    "\t• V를 구성하는 작은 v들은 새로운 변환을 가장 잘 설명해주는 새로운 축들을 의미한다\r\n",
    "\t\r\n",
    "# Projection 상세 설명\r\n",
    "\t• Projection 전에 열별 평균 값을 빼서 원점에 중심을 맞춰준다. \r\n",
    "\t• 고유벡터를 곱해서 projection을 하게 되면, 고유벡터의 방향대로 사영되며, 고유벡터별 좌표값이 도출된다. "
   ],
   "metadata": {}
  },
  {
   "cell_type": "code",
   "execution_count": 1,
   "source": [
    "# 파이썬 ≥3.5 필수\r\n",
    "import sys\r\n",
    "assert sys.version_info >= (3, 5)\r\n",
    "\r\n",
    "# 사이킷런 ≥0.20 필수\r\n",
    "import sklearn\r\n",
    "assert sklearn.__version__ >= \"0.20\"\r\n",
    "\r\n",
    "# 공통 모듈 임포트\r\n",
    "import numpy as np\r\n",
    "import os\r\n",
    "\r\n",
    "# 노트북 실행 결과를 동일하게 유지하기 위해\r\n",
    "np.random.seed(42)\r\n",
    "\r\n",
    "# 깔끔한 그래프 출력을 위해\r\n",
    "%matplotlib inline\r\n",
    "import matplotlib as mpl\r\n",
    "import matplotlib.pyplot as plt\r\n",
    "mpl.rc('axes', labelsize=14)\r\n",
    "mpl.rc('xtick', labelsize=12)\r\n",
    "mpl.rc('ytick', labelsize=12)\r\n",
    "plt.rc('axes',unicode_minus=False)\r\n",
    "\r\n",
    "\r\n",
    "\r\n",
    "# 그림을 저장할 위치\r\n",
    "PROJECT_ROOT_DIR = \".\"\r\n",
    "CHAPTER_ID = \"dim_reduction\"\r\n",
    "IMAGES_PATH = os.path.join(PROJECT_ROOT_DIR, \"images\", CHAPTER_ID)\r\n",
    "os.makedirs(IMAGES_PATH, exist_ok=True)\r\n",
    "\r\n",
    "def save_fig(fig_id, tight_layout=True, fig_extension=\"png\", resolution=300):\r\n",
    "    path = os.path.join(IMAGES_PATH, fig_id + \".\" + fig_extension)\r\n",
    "    print(\"그림 저장\", fig_id)\r\n",
    "    if tight_layout:\r\n",
    "        plt.tight_layout()\r\n",
    "    plt.savefig(path, format=fig_extension, dpi=resolution)"
   ],
   "outputs": [],
   "metadata": {}
  },
  {
   "cell_type": "code",
   "execution_count": 2,
   "source": [
    "#데이터 생성\r\n",
    "\r\n",
    "np.random.seed(4)\r\n",
    "m = 60\r\n",
    "w1, w2 = 0.1, 0.3\r\n",
    "noise = 0.1\r\n",
    "\r\n",
    "angles = np.random.rand(m) * 3 * np.pi / 2 - 0.5\r\n",
    "X = np.empty((m, 3))\r\n",
    "X[:, 0] = np.cos(angles) + np.sin(angles)/2 + noise * np.random.randn(m) / 2\r\n",
    "X[:, 1] = np.sin(angles) * 0.7 + noise * np.random.randn(m) / 2\r\n",
    "X[:, 2] = X[:, 0] * w1 + X[:, 1] * w2 + noise * np.random.randn(m)\r\n",
    "\r\n",
    "print('X.shape:', X.shape)\r\n",
    "\r\n",
    "\r\n",
    "# 출처: https://excelsior-cjh.tistory.com/167 [EXCELSIOR]"
   ],
   "outputs": [
    {
     "output_type": "stream",
     "name": "stdout",
     "text": [
      "X.shape: (60, 3)\n"
     ]
    }
   ],
   "metadata": {}
  },
  {
   "cell_type": "code",
   "execution_count": 32,
   "source": [
    "# 고유값 분해\r\n",
    "\r\n",
    "X_cen = X - X.mean(axis=0)  # 평균을 0으로 정규화\r\n",
    "X_cov = np.dot(X_cen.T, X_cen) / 59 #공분산 행렬을 계산한다. \r\n",
    "print('X_cov :', X_cov)\r\n",
    "\r\n",
    "w, v = np.linalg.eig(X_cov)\r\n",
    "\r\n",
    "print('\\neigenvalue = pca.explained_variance:', w) #람다값들\r\n",
    "print('\\neigenvector = pca.components.T:\\n', v) #고유벡터들 =  pca.components.T와 일치한다. \r\n",
    "print('\\nexplained variance ratio :', w / w.sum()) "
   ],
   "outputs": [
    {
     "output_type": "stream",
     "name": "stdout",
     "text": [
      "X_cov : [[0.69812855 0.17640539 0.12137931]\n",
      " [0.17640539 0.1801727  0.07253614]\n",
      " [0.12137931 0.07253614 0.04552382]]\n",
      "\n",
      "eigenvalue = pca.explained_variance: [0.77830975 0.1351726  0.01034272]\n",
      "\n",
      "eigenvector = pca.components.T:\n",
      " [[ 0.93636116  0.34027485 -0.08626012]\n",
      " [ 0.29854881 -0.90119108 -0.31420255]\n",
      " [ 0.18465208 -0.2684542   0.94542898]]\n",
      "\n",
      "explained variance ratio : [0.84248607 0.14631839 0.01119554]\n"
     ]
    }
   ],
   "metadata": {}
  },
  {
   "cell_type": "code",
   "execution_count": 42,
   "source": [
    "#실제 pca를 할 경우\r\n",
    "\r\n",
    "from sklearn.decomposition import PCA\r\n",
    "pca = PCA(n_components=3)\r\n",
    "# pca.fit(X)\r\n",
    "printcipalComponents = pca.fit_transform(X)\r\n",
    "\r\n",
    "_X=X-X.mean(axis=0)\r\n",
    "\r\n",
    "print('원래 데이터 모양',X.shape)\r\n",
    "\r\n",
    "print('\\nsingular value :', pca.singular_values_)\r\n",
    "print('\\nsingular vector=pca.components_.T :\\n', pca.components_.T)\r\n",
    "\r\n",
    "# PC1에 projection\r\n",
    "pc1 = v[:, 0]\r\n",
    "print('\\n첫번째 고유벡터',pc1)\r\n",
    "proj1 = np.dot(_X, pc1)\r\n",
    "print('\\n첫번째 projection',proj1.shape,proj1)\r\n",
    " \r\n",
    "# ​# PC2에 projection \r\n",
    "pc2 = v[:, 1]\r\n",
    "proj2 = np.dot(_X, pc2)\r\n",
    "print('\\n두번째 projection',proj1.shape,proj2)\r\n",
    "\r\n",
    "# ​# PC3에 projection\r\n",
    "pc3 = v[:, 2]\r\n",
    "proj3 = np.dot(_X, pc3)\r\n",
    "print('\\n세번째 projection',proj1.shape,proj3)\r\n",
    "\r\n",
    "\r\n",
    "proj_list = np.array([proj1.var(), proj2.var(), proj3.var()])\r\n",
    "\r\n",
    "print('\\nvariance(==eigenvalue) :', proj_list)\r\n",
    "print('\\nexplained variance ratio :', proj_list / proj_list.sum())"
   ],
   "outputs": [
    {
     "output_type": "stream",
     "name": "stdout",
     "text": [
      "원래 데이터 모양 (60, 3)\n",
      "\n",
      "singular value : [6.77645005 2.82403671 0.78116597]\n",
      "\n",
      "singular vector=pca.components_.T :\n",
      " [[-0.93636116  0.34027485 -0.08626012]\n",
      " [-0.29854881 -0.90119108 -0.31420255]\n",
      " [-0.18465208 -0.2684542   0.94542898]]\n",
      "\n",
      "첫번째 고유벡터 [0.93636116 0.29854881 0.18465208]\n",
      "\n",
      "첫번째 projection (60,) [-1.26203346  0.08001485 -1.17545763 -0.89305601 -0.73016287  1.10436914\n",
      " -1.27265808  0.44933007  1.09356195  0.66177325 -1.04466138  1.05932502\n",
      " -1.13761426 -1.16044117  1.00167625 -0.2750406   0.45624787  0.79706574\n",
      "  0.66924929 -1.30679728  0.6626586  -1.25387588 -1.04046987 -1.26047729\n",
      "  1.09786649  0.7130973  -0.17786909  1.02975735 -0.94552283  0.80994916\n",
      "  0.20189175 -1.34219411  0.13599883  0.8206931   0.90818634  0.06703671\n",
      "  0.13936893 -0.37356775  0.7312441  -0.5230355   0.86146183 -0.33203239\n",
      " -0.99467436  1.04520043  0.87477048  0.30457923 -0.63685997  1.1287259\n",
      "  0.03836205 -0.41386843 -1.32417938  0.92968677 -0.40274964  1.11480941\n",
      "  0.31915065  1.02666316 -1.24145806  0.66770361 -1.16397896  0.68326064]\n",
      "\n",
      "두번째 projection (60,) [ 0.42067648 -0.35272239  0.36085729 -0.30862856 -0.25404049  0.20204953\n",
      "  0.46781247  0.67736663 -0.04467792 -0.28651264 -0.11244353  0.31189109\n",
      "  0.14576655  0.36481599  0.39422008 -0.34391089  0.69707573 -0.26870969\n",
      "  0.65520024  0.37671343 -0.32706423  0.56043928 -0.08727672  0.1571074\n",
      "  0.38643428  0.64941523 -0.43609071  0.33747452 -0.22833268 -0.33810729\n",
      " -0.3514758   0.42415687 -0.37258632  0.55120835  0.31869127 -0.42486148\n",
      " -0.41906961 -0.27320849 -0.23441131 -0.46621776 -0.30212526 -0.47352674\n",
      " -0.18342807  0.32697207 -0.18062856 -0.43904343 -0.32851826  0.11627335\n",
      " -0.49036349 -0.31734423  0.1944472  -0.18429606 -0.34154025  0.24138847\n",
      " -0.27787663  0.34676546  0.35049349 -0.32262317 -0.03648137 -0.22756871]\n",
      "\n",
      "세번째 projection (60,) [ 0.0138445  -0.15436525 -0.00722714  0.03418723  0.19736924  0.10140211\n",
      "  0.16431061  0.02056169  0.19288206 -0.03876721 -0.0321141  -0.1202656\n",
      "  0.02118536  0.10723273 -0.05582805 -0.05156738 -0.02954594 -0.04701266\n",
      " -0.0432233  -0.12148596  0.11473492 -0.17523509 -0.0957267   0.03329202\n",
      "  0.10075862 -0.00704262 -0.04619367  0.00757823 -0.03667208  0.06609396\n",
      " -0.06316965 -0.08520148 -0.06275083  0.01888076  0.11970735  0.13344465\n",
      " -0.05719266 -0.15358232 -0.14626141  0.18311699 -0.05493836  0.02357194\n",
      "  0.17259078 -0.06236165 -0.0313641  -0.07531651 -0.11978326  0.07223271\n",
      "  0.08052131 -0.19394691  0.09538103 -0.03550105  0.00155054  0.01867136\n",
      " -0.13964647 -0.02650672 -0.08812242  0.16582991  0.20294673 -0.00596072]\n",
      "\n",
      "variance(==eigenvalue) : [0.76533792 0.13291972 0.01017034]\n",
      "\n",
      "explained variance ratio : [0.84248607 0.14631839 0.01119554]\n"
     ]
    }
   ],
   "metadata": {}
  },
  {
   "cell_type": "code",
   "execution_count": 43,
   "source": [
    "#데이터 생성\r\n",
    "\r\n",
    "X=np.array([[6,3],[2,4],[4,2]])\r\n",
    "\r\n",
    "print('X.shape:', X.shape)\r\n",
    "\r\n",
    "\r\n",
    "# 출처: https://excelsior-cjh.tistory.com/167 [EXCELSIOR]"
   ],
   "outputs": [
    {
     "output_type": "stream",
     "name": "stdout",
     "text": [
      "X.shape: (3, 2)\n"
     ]
    }
   ],
   "metadata": {}
  },
  {
   "cell_type": "code",
   "execution_count": 44,
   "source": [
    "# 고유값 분해\r\n",
    "\r\n",
    "X_cen = X - X.mean(axis=0)  # 평균을 0으로 정규화\r\n",
    "X_cov = np.dot(X_cen.T, X_cen) / 59 #공분산 행렬을 계산한다. \r\n",
    "print('X_cov :', X_cov)\r\n",
    "\r\n",
    "w, v = np.linalg.eig(X_cov)\r\n",
    "\r\n",
    "print('\\neigenvalue = pca.explained_variance:', w) #람다값들\r\n",
    "print('\\neigenvector = pca.components.T:\\n', v) #고유벡터들 =  pca.components.T와 일치한다. \r\n",
    "print('\\nexplained variance ratio :', w / w.sum()) "
   ],
   "outputs": [
    {
     "output_type": "stream",
     "name": "stdout",
     "text": [
      "X_cov : [[ 0.13559322 -0.03389831]\n",
      " [-0.03389831  0.03389831]]\n",
      "\n",
      "eigenvalue = pca.explained_variance: [0.1458568  0.02363472]\n",
      "\n",
      "eigenvector = pca.components.T:\n",
      " [[ 0.95709203  0.28978415]\n",
      " [-0.28978415  0.95709203]]\n",
      "\n",
      "explained variance ratio : [0.86055513 0.13944487]\n"
     ]
    }
   ],
   "metadata": {}
  },
  {
   "cell_type": "code",
   "execution_count": 49,
   "source": [
    "#실제 pca를 할 경우\r\n",
    "\r\n",
    "from sklearn.decomposition import PCA\r\n",
    "pca = PCA(n_components=1)\r\n",
    "# pca.fit(X)\r\n",
    "printcipalComponents = pca.fit_transform(X)\r\n",
    "\r\n",
    "_X=X-X.mean(axis=0)\r\n",
    "\r\n",
    "print('원래 데이터 모양',X.shape)\r\n",
    "\r\n",
    "print('\\nsingular value :', pca.singular_values_)\r\n",
    "print('\\nsingular vector=pca.components_.T :\\n', pca.components_.T)\r\n",
    "\r\n",
    "# PC1에 projection\r\n",
    "pc1 = v[:, 0]\r\n",
    "print('\\n첫번째 고유벡터',pc1)\r\n",
    "proj1 = np.dot(_X, pc1)\r\n",
    "print('\\n첫번째 projection',proj1.shape,proj1)\r\n",
    "\r\n",
    "printcipalComponents"
   ],
   "outputs": [
    {
     "output_type": "stream",
     "name": "stdout",
     "text": [
      "원래 데이터 모양 (3, 2)\n",
      "\n",
      "singular value : [2.93352199]\n",
      "\n",
      "singular vector=pca.components_.T :\n",
      " [[-0.95709203]\n",
      " [ 0.28978415]]\n",
      "\n",
      "첫번째 고유벡터 [ 0.95709203 -0.28978415]\n",
      "\n",
      "첫번째 projection (3,) [ 1.91418405 -2.2039682   0.28978415]\n"
     ]
    },
    {
     "output_type": "execute_result",
     "data": {
      "text/plain": [
       "array([[-1.91418405],\n",
       "       [ 2.2039682 ],\n",
       "       [-0.28978415]])"
      ]
     },
     "metadata": {},
     "execution_count": 49
    }
   ],
   "metadata": {}
  },
  {
   "cell_type": "code",
   "execution_count": 50,
   "source": [
    "#Appendix: svd\r\n",
    "\r\n",
    "U, D, V_t = np.linalg.svd(X_cen)\r\n",
    "print('singular value :', D)\r\n",
    "print('\\nsingular vector :\\n', V_t.T)\r\n",
    "print('\\nexplained variance ratio :', D ** 2 / np.sum(D**2))\r\n"
   ],
   "outputs": [
    {
     "output_type": "stream",
     "name": "stdout",
     "text": [
      "singular value : [2.93352199 1.18086778]\n",
      "\n",
      "singular vector :\n",
      " [[-0.95709203 -0.28978415]\n",
      " [ 0.28978415 -0.95709203]]\n",
      "\n",
      "explained variance ratio : [0.86055513 0.13944487]\n"
     ]
    }
   ],
   "metadata": {}
  },
  {
   "cell_type": "markdown",
   "source": [
    "# 그림그리기"
   ],
   "metadata": {}
  },
  {
   "cell_type": "code",
   "execution_count": 18,
   "source": [
    "\r\n",
    "\r\n",
    "#https://jakevdp.github.io/PythonDataScienceHandbook/05.09-principal-component-analysis.html\r\n",
    "\r\n",
    "%matplotlib inline\r\n",
    "import numpy as np\r\n",
    "import matplotlib.pyplot as plt\r\n",
    "import seaborn as sns\r\n",
    "sns.set()\r\n",
    "\r\n",
    "rng = np.random.RandomState(1)\r\n",
    "X = np.dot(rng.rand(2, 2), rng.randn(2, 200)).T\r\n",
    "\r\n",
    "\r\n",
    "from sklearn.decomposition import PCA\r\n",
    "pca = PCA(n_components=2)\r\n",
    "pca.fit(X)\r\n",
    "\r\n",
    "def draw_vector(v0, v1, ax=None):\r\n",
    "    ax = ax or plt.gca()\r\n",
    "    arrowprops=dict(arrowstyle='->',\r\n",
    "                    linewidth=2,\r\n",
    "                    shrinkA=0, shrinkB=0,\r\n",
    "                    color='black')\r\n",
    "    ax.annotate('', v1, v0, arrowprops=arrowprops)\r\n",
    "\r\n",
    "# plot data\r\n",
    "\r\n",
    "plt.scatter(X[:, 0], X[:, 1])\r\n",
    "plt.axis('equal')\r\n",
    "\r\n",
    "variance=pca.explained_variance_\r\n",
    "components=pca.components_\r\n",
    "\r\n",
    "for length, vector in zip(variance,components): #variance=length=1*2, components=vector=2*2\r\n",
    "    print(length, vector)\r\n",
    "    v = 3* vector * np.sqrt(length) \r\n",
    "    print(pca.mean_, pca.mean_ + v)#중간점->중간+vector를 연결\r\n",
    "    draw_vector(pca.mean_, pca.mean_ + v)\r\n",
    "plt.axis('equal');"
   ],
   "outputs": [
    {
     "output_type": "stream",
     "name": "stdout",
     "text": [
      "0.7625315008826112 [-0.94446029 -0.32862557]\n",
      "[ 0.03351168 -0.00408072] [-2.4406829  -0.86497833]\n",
      "0.018477895513562572 [-0.32862557  0.94446029]\n",
      "[ 0.03351168 -0.00408072] [-0.10050192  0.38107044]\n"
     ]
    },
    {
     "output_type": "display_data",
     "data": {
      "image/png": "[encoded data removed]",
      "text/plain": [
       "<Figure size 432x288 with 1 Axes>"
      ]
     },
     "metadata": {}
    }
   ],
   "metadata": {}
  },
  {
   "cell_type": "code",
   "execution_count": 46,
   "source": [
    "angle = np.pi / 5\r\n",
    "stretch = 5\r\n",
    "m = 200\r\n",
    "\r\n",
    "np.random.seed(3)\r\n",
    "X = np.random.randn(m, 2) / 10\r\n",
    "X = X.dot(np.array([[stretch, 0],[0, 1]])) # stretch\r\n",
    "X = X.dot([[np.cos(angle), np.sin(angle)], [-np.sin(angle), np.cos(angle)]]) # rotate\r\n",
    "\r\n",
    "u1 = np.array([np.cos(angle), np.sin(angle)])\r\n",
    "u2 = np.array([np.cos(angle - 2 * np.pi/6), np.sin(angle - 2 * np.pi/6)])\r\n",
    "u3 = np.array([np.cos(angle - np.pi/2), np.sin(angle - np.pi/2)])\r\n",
    "\r\n",
    "X_proj1 = X.dot(u1.reshape(-1, 1))\r\n",
    "X_proj2 = X.dot(u2.reshape(-1, 1))\r\n",
    "X_proj3 = X.dot(u3.reshape(-1, 1))\r\n",
    "\r\n",
    "plt.figure(figsize=(8,4))\r\n",
    "plt.subplot2grid((3,2), (0, 0), rowspan=3)\r\n",
    "plt.plot([-1.4, 1.4], [-1.4*u1[1]/u1[0], 1.4*u1[1]/u1[0]], \"k-\", linewidth=1)\r\n",
    "plt.plot([-1.4, 1.4], [-1.4*u2[1]/u2[0], 1.4*u2[1]/u2[0]], \"k--\", linewidth=1)\r\n",
    "plt.plot([-1.4, 1.4], [-1.4*u3[1]/u3[0], 1.4*u3[1]/u3[0]], \"k:\", linewidth=2)\r\n",
    "plt.plot(X[:, 0], X[:, 1], \"bo\", alpha=0.5)\r\n",
    "plt.axis([-1.4, 1.4, -1.4, 1.4])\r\n",
    "plt.arrow(0, 0, u1[0], u1[1], head_width=0.1, linewidth=5, length_includes_head=True, head_length=0.1, fc='k', ec='k')\r\n",
    "plt.arrow(0, 0, u3[0], u3[1], head_width=0.1, linewidth=5, length_includes_head=True, head_length=0.1, fc='k', ec='k')\r\n",
    "plt.text(u1[0] + 0.1, u1[1] - 0.05, r\"$\\mathbf{c_1}$\", fontsize=22)\r\n",
    "plt.text(u3[0] + 0.1, u3[1], r\"$\\mathbf{c_2}$\", fontsize=22)\r\n",
    "plt.xlabel(\"$x_1$\", fontsize=18)\r\n",
    "plt.ylabel(\"$x_2$\", fontsize=18, rotation=0)\r\n",
    "plt.grid(True)\r\n",
    "\r\n",
    "plt.subplot2grid((3,2), (0, 1))\r\n",
    "plt.plot([-2, 2], [0, 0], \"k-\", linewidth=1)\r\n",
    "plt.plot(X_proj1[:, 0], np.zeros(m), \"bo\", alpha=0.3)\r\n",
    "plt.gca().get_yaxis().set_ticks([])\r\n",
    "plt.gca().get_xaxis().set_ticklabels([])\r\n",
    "plt.axis([-2, 2, -1, 1])\r\n",
    "plt.grid(True)\r\n",
    "\r\n",
    "plt.subplot2grid((3,2), (1, 1))\r\n",
    "plt.plot([-2, 2], [0, 0], \"k--\", linewidth=1)\r\n",
    "plt.plot(X_proj2[:, 0], np.zeros(m), \"bo\", alpha=0.3)\r\n",
    "plt.gca().get_yaxis().set_ticks([])\r\n",
    "plt.gca().get_xaxis().set_ticklabels([])\r\n",
    "plt.axis([-2, 2, -1, 1])\r\n",
    "plt.grid(True)\r\n",
    "\r\n",
    "plt.subplot2grid((3,2), (2, 1))\r\n",
    "plt.plot([-2, 2], [0, 0], \"k:\", linewidth=2)\r\n",
    "plt.plot(X_proj3[:, 0], np.zeros(m), \"bo\", alpha=0.3)\r\n",
    "plt.gca().get_yaxis().set_ticks([])\r\n",
    "plt.axis([-2, 2, -1, 1])\r\n",
    "plt.xlabel(\"$z_1$\", fontsize=18)\r\n",
    "plt.grid(True)\r\n",
    "\r\n",
    "save_fig(\"pca_best_projection_plot\")\r\n",
    "plt.show()"
   ],
   "outputs": [
    {
     "output_type": "stream",
     "name": "stdout",
     "text": [
      "그림 저장 pca_best_projection_plot\n"
     ]
    },
    {
     "output_type": "display_data",
     "data": {
      "image/png": "[encoded data removed]",
      "text/plain": [
       "<Figure size 576x288 with 4 Axes>"
      ]
     },
     "metadata": {
      "needs_background": "light"
     }
    }
   ],
   "metadata": {}
  }
 ],
 "metadata": {
  "orig_nbformat": 4,
  "language_info": {
   "name": "python",
   "version": "3.9.6",
   "mimetype": "text/x-python",
   "codemirror_mode": {
    "name": "ipython",
    "version": 3
   },
   "pygments_lexer": "ipython3",
   "nbconvert_exporter": "python",
   "file_extension": ".py"
  },
  "kernelspec": {
   "name": "python3",
   "display_name": "Python 3.9.6 64-bit"
  },
  "interpreter": {
   "hash": "5812e37fbc42ae0019c075dcd625ea6adf837b197758e07cfdfe5b415c77a600"
  }
 },
 "nbformat": 4,
 "nbformat_minor": 2
}