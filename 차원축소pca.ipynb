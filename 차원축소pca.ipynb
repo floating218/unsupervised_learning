{
 "cells": [
  {
   "cell_type": "code",
   "execution_count": 5,
   "source": [
    "# 파이썬 ≥3.5 필수\r\n",
    "import sys\r\n",
    "assert sys.version_info >= (3, 5)\r\n",
    "\r\n",
    "# 사이킷런 ≥0.20 필수\r\n",
    "import sklearn\r\n",
    "assert sklearn.__version__ >= \"0.20\"\r\n",
    "\r\n",
    "# 공통 모듈 임포트\r\n",
    "import numpy as np\r\n",
    "import os\r\n",
    "\r\n",
    "# 노트북 실행 결과를 동일하게 유지하기 위해\r\n",
    "np.random.seed(42)\r\n",
    "\r\n",
    "# 깔끔한 그래프 출력을 위해\r\n",
    "%matplotlib inline\r\n",
    "import matplotlib as mpl\r\n",
    "import matplotlib.pyplot as plt\r\n",
    "mpl.rc('axes', labelsize=14)\r\n",
    "mpl.rc('xtick', labelsize=12)\r\n",
    "mpl.rc('ytick', labelsize=12)\r\n",
    "plt.rc('axes',unicode_minus=False)\r\n",
    "\r\n",
    "\r\n",
    "\r\n",
    "# 그림을 저장할 위치\r\n",
    "PROJECT_ROOT_DIR = \".\"\r\n",
    "CHAPTER_ID = \"dim_reduction\"\r\n",
    "IMAGES_PATH = os.path.join(PROJECT_ROOT_DIR, \"images\", CHAPTER_ID)\r\n",
    "os.makedirs(IMAGES_PATH, exist_ok=True)\r\n",
    "\r\n",
    "def save_fig(fig_id, tight_layout=True, fig_extension=\"png\", resolution=300):\r\n",
    "    path = os.path.join(IMAGES_PATH, fig_id + \".\" + fig_extension)\r\n",
    "    print(\"그림 저장\", fig_id)\r\n",
    "    if tight_layout:\r\n",
    "        plt.tight_layout()\r\n",
    "    plt.savefig(path, format=fig_extension, dpi=resolution)"
   ],
   "outputs": [],
   "metadata": {}
  },
  {
   "cell_type": "code",
   "execution_count": 20,
   "source": [
    "np.random.seed(4)\r\n",
    "m = 60\r\n",
    "w1, w2 = 0.1, 0.3\r\n",
    "noise = 0.1\r\n",
    "\r\n",
    "angles = np.random.rand(m) * 3 * np.pi / 2 - 0.5\r\n",
    "X = np.empty((m, 3))\r\n",
    "X[:, 0] = np.cos(angles) + np.sin(angles)/2 + noise * np.random.randn(m) / 2\r\n",
    "X[:, 1] = np.sin(angles) * 0.7 + noise * np.random.randn(m) / 2\r\n",
    "X[:, 2] = X[:, 0] * w1 + X[:, 1] * w2 + noise * np.random.randn(m)\r\n",
    "\r\n",
    "print('X.shape:', X.shape)\r\n",
    "\r\n",
    "\r\n",
    "# 출처: https://excelsior-cjh.tistory.com/167 [EXCELSIOR]"
   ],
   "outputs": [
    {
     "output_type": "stream",
     "name": "stdout",
     "text": [
      "X.shape: (60, 3)\n"
     ]
    }
   ],
   "metadata": {}
  },
  {
   "cell_type": "code",
   "execution_count": 43,
   "source": [
    "X_cen = X - X.mean(axis=0)  # 평균을 0으로 정규화\r\n",
    "X_cov = np.dot(X_cen.T, X_cen) / 59 #공분산 행렬을 계산한다. \r\n",
    "print('X_cov :', X_cov)\r\n",
    "\r\n",
    "w, v = np.linalg.eig(X_cov)\r\n",
    "\r\n",
    "print('\\neigenvalue = pca.explained_variance:', w)\r\n",
    "print('\\neigenvector = pca.components.T:\\n', v)\r\n",
    "print('\\nexplained variance ratio :', w / w.sum())"
   ],
   "outputs": [
    {
     "output_type": "stream",
     "name": "stdout",
     "text": [
      "X_cov : [[0.69812855 0.17640539 0.12137931]\n",
      " [0.17640539 0.1801727  0.07253614]\n",
      " [0.12137931 0.07253614 0.04552382]]\n",
      "\n",
      "eigenvalue = pca.explained_variance: [0.77830975 0.1351726  0.01034272]\n",
      "\n",
      "eigenvector = pca.components.T:\n",
      " [[ 0.93636116  0.34027485 -0.08626012]\n",
      " [ 0.29854881 -0.90119108 -0.31420255]\n",
      " [ 0.18465208 -0.2684542   0.94542898]]\n",
      "\n",
      "explained variance ratio : [0.84248607 0.14631839 0.01119554]\n"
     ]
    }
   ],
   "metadata": {}
  },
  {
   "cell_type": "code",
   "execution_count": 37,
   "source": [
    "U, D, V_t = np.linalg.svd(X_cen)\r\n",
    "print('singular value :', D)\r\n",
    "print('\\nsingular vector :\\n', V_t.T)\r\n",
    "print('\\nexplained variance ratio :', D ** 2 / np.sum(D**2))\r\n"
   ],
   "outputs": [
    {
     "output_type": "stream",
     "name": "stdout",
     "text": [
      "singular value : [6.77645005 2.82403671 0.78116597]\n",
      "\n",
      "singular vector :\n",
      " [[ 0.93636116 -0.34027485 -0.08626012]\n",
      " [ 0.29854881  0.90119108 -0.31420255]\n",
      " [ 0.18465208  0.2684542   0.94542898]]\n",
      "\n",
      "explained variance ratio : [0.84248607 0.14631839 0.01119554]\n"
     ]
    }
   ],
   "metadata": {}
  },
  {
   "cell_type": "code",
   "execution_count": 39,
   "source": [
    "from sklearn.decomposition import PCA\r\n",
    "pca = PCA(n_components=3)\r\n",
    "pca.fit(X)\r\n",
    "\r\n",
    "print('singular value :', pca.singular_values_)\r\n",
    "print('\\nsingular vector=pca.components_.T :\\n', pca.components_.T)\r\n",
    "\r\n",
    "# PC1에 projection\r\n",
    "pc1 = v[:, 0]\r\n",
    "proj1 = np.dot(X, pc1)\r\n",
    " \r\n",
    "# ​# PC2에 projection \r\n",
    "pc2 = v[:, 1]\r\n",
    "proj2 = np.dot(X, pc2)\r\n",
    "\r\n",
    "# ​# PC3에 projection\r\n",
    "pc3 = v[:, 2]\r\n",
    "proj3 = np.dot(X, pc3)\r\n",
    "proj_list = np.array([proj1.var(), proj2.var(), proj3.var()])\r\n",
    "\r\n",
    "print('\\nvariance(==eigenvalue) :', proj_list)\r\n",
    "print('\\nexplained variance ratio :', proj_list / proj_list.sum())"
   ],
   "outputs": [
    {
     "output_type": "stream",
     "name": "stdout",
     "text": [
      "singular value : [6.77645005 2.82403671 0.78116597]\n",
      "\n",
      "singular vector=pca.components_.T :\n",
      " [[-0.93636116  0.34027485 -0.08626012]\n",
      " [-0.29854881 -0.90119108 -0.31420255]\n",
      " [-0.18465208 -0.2684542   0.94542898]]\n",
      "\n",
      "variance(==eigenvalue) : [0.76533792 0.13291972 0.01017034]\n",
      "\n",
      "explained variance ratio : [0.84248607 0.14631839 0.01119554]\n"
     ]
    }
   ],
   "metadata": {}
  },
  {
   "cell_type": "code",
   "execution_count": 31,
   "source": [
    "pca.explained_variance_"
   ],
   "outputs": [
    {
     "output_type": "execute_result",
     "data": {
      "text/plain": [
       "array([0.77830975, 0.1351726 , 0.01034272])"
      ]
     },
     "metadata": {},
     "execution_count": 31
    }
   ],
   "metadata": {}
  },
  {
   "cell_type": "code",
   "execution_count": 35,
   "source": [
    "pca.components_"
   ],
   "outputs": [
    {
     "output_type": "execute_result",
     "data": {
      "text/plain": [
       "array([[-0.93636116, -0.29854881, -0.18465208],\n",
       "       [ 0.34027485, -0.90119108, -0.2684542 ],\n",
       "       [-0.08626012, -0.31420255,  0.94542898]])"
      ]
     },
     "metadata": {},
     "execution_count": 35
    }
   ],
   "metadata": {}
  },
  {
   "cell_type": "code",
   "execution_count": 13,
   "source": [
    "from sklearn.decomposition import PCA\r\n",
    "\r\n",
    "pca = PCA(n_components=2)\r\n",
    "X2D = pca.fit_transform(X)\r\n",
    "X2D.shape"
   ],
   "outputs": [
    {
     "output_type": "execute_result",
     "data": {
      "text/plain": [
       "(60, 2)"
      ]
     },
     "metadata": {},
     "execution_count": 13
    }
   ],
   "metadata": {}
  },
  {
   "cell_type": "code",
   "execution_count": 18,
   "source": [
    "#https://jakevdp.github.io/PythonDataScienceHandbook/05.09-principal-component-analysis.html\r\n",
    "\r\n",
    "%matplotlib inline\r\n",
    "import numpy as np\r\n",
    "import matplotlib.pyplot as plt\r\n",
    "import seaborn as sns\r\n",
    "sns.set()\r\n",
    "\r\n",
    "rng = np.random.RandomState(1)\r\n",
    "X = np.dot(rng.rand(2, 2), rng.randn(2, 200)).T\r\n",
    "\r\n",
    "\r\n",
    "from sklearn.decomposition import PCA\r\n",
    "pca = PCA(n_components=2)\r\n",
    "pca.fit(X)\r\n",
    "\r\n",
    "def draw_vector(v0, v1, ax=None):\r\n",
    "    ax = ax or plt.gca()\r\n",
    "    arrowprops=dict(arrowstyle='->',\r\n",
    "                    linewidth=2,\r\n",
    "                    shrinkA=0, shrinkB=0,\r\n",
    "                    color='black')\r\n",
    "    ax.annotate('', v1, v0, arrowprops=arrowprops)\r\n",
    "\r\n",
    "# plot data\r\n",
    "\r\n",
    "plt.scatter(X[:, 0], X[:, 1])\r\n",
    "plt.axis('equal')\r\n",
    "\r\n",
    "variance=pca.explained_variance_\r\n",
    "components=pca.components_\r\n",
    "\r\n",
    "for length, vector in zip(variance,components): #variance=length=1*2, components=vector=2*2\r\n",
    "    print(length, vector)\r\n",
    "    v = 3* vector * np.sqrt(length) \r\n",
    "    print(pca.mean_, pca.mean_ + v)#중간점->중간+vector를 연결\r\n",
    "    draw_vector(pca.mean_, pca.mean_ + v)\r\n",
    "plt.axis('equal');"
   ],
   "outputs": [
    {
     "output_type": "stream",
     "name": "stdout",
     "text": [
      "0.7625315008826112 [-0.94446029 -0.32862557]\n",
      "[ 0.03351168 -0.00408072] [-2.4406829  -0.86497833]\n",
      "0.018477895513562572 [-0.32862557  0.94446029]\n",
      "[ 0.03351168 -0.00408072] [-0.10050192  0.38107044]\n"
     ]
    },
    {
     "output_type": "display_data",
     "data": {
      "image/png": "[encoded data removed]",
      "text/plain": [
       "<Figure size 432x288 with 1 Axes>"
      ]
     },
     "metadata": {}
    }
   ],
   "metadata": {}
  },
  {
   "cell_type": "code",
   "execution_count": 11,
   "source": [
    "pca.explained_variance_"
   ],
   "outputs": [
    {
     "output_type": "execute_result",
     "data": {
      "text/plain": [
       "array([0.7625315, 0.0184779])"
      ]
     },
     "metadata": {},
     "execution_count": 11
    }
   ],
   "metadata": {}
  },
  {
   "cell_type": "code",
   "execution_count": 12,
   "source": [
    "pca.components_"
   ],
   "outputs": [
    {
     "output_type": "execute_result",
     "data": {
      "text/plain": [
       "array([[-0.94446029, -0.32862557],\n",
       "       [-0.32862557,  0.94446029]])"
      ]
     },
     "metadata": {},
     "execution_count": 12
    }
   ],
   "metadata": {}
  },
  {
   "cell_type": "code",
   "execution_count": null,
   "source": [],
   "outputs": [],
   "metadata": {}
  },
  {
   "cell_type": "code",
   "execution_count": 7,
   "source": [
    "np.random.randn(m, 2) "
   ],
   "outputs": [
    {
     "output_type": "execute_result",
     "data": {
      "text/plain": [
       "array([[ 0.08905337,  0.7788969 ],\n",
       "       [ 1.26464491, -0.88051133],\n",
       "       [ 0.2364056 ,  0.81560447],\n",
       "       [ 1.86081167,  0.25559049],\n",
       "       [-0.54150372, -0.68959966],\n",
       "       [-0.35744073, -0.6519202 ],\n",
       "       [ 0.82653585,  1.06930572],\n",
       "       [ 0.72485682,  1.19218624],\n",
       "       [-0.45376854,  0.38033506],\n",
       "       [-0.38466318,  0.04365869],\n",
       "       [ 1.22498574, -0.02973531],\n",
       "       [-1.8648058 , -0.25281599],\n",
       "       [-0.7128498 , -1.50891712],\n",
       "       [-0.79036569,  0.9606248 ],\n",
       "       [ 1.68091065, -0.48900604],\n",
       "       [ 1.00253584,  1.1782221 ],\n",
       "       [-1.15979227, -0.0393627 ],\n",
       "       [-0.04446017,  0.17238568],\n",
       "       [-1.59375081, -0.34914224],\n",
       "       [ 1.05782121,  1.2622032 ],\n",
       "       [ 1.83136208, -0.33750905],\n",
       "       [ 1.86950756,  0.66590511],\n",
       "       [-1.35920117,  0.76160928],\n",
       "       [-0.35228003,  0.51907626],\n",
       "       [-0.10252394,  1.20823864],\n",
       "       [ 0.25656016, -0.28250502],\n",
       "       [ 0.96496577,  0.25622178],\n",
       "       [-0.4129564 ,  1.27727436],\n",
       "       [-0.40834524, -0.63713486],\n",
       "       [-0.53957461, -1.46547209],\n",
       "       [-0.55320717,  1.86087769],\n",
       "       [-0.90828394,  0.0084189 ],\n",
       "       [-1.10818335, -0.61135315],\n",
       "       [ 1.51869216,  0.89635574],\n",
       "       [-0.61025035,  0.00622012],\n",
       "       [-0.82600396, -0.78420535],\n",
       "       [-0.9148222 , -0.89713978],\n",
       "       [ 0.32594927,  0.59679317],\n",
       "       [ 0.48824249, -0.16943686],\n",
       "       [-1.3580452 , -0.06711047],\n",
       "       [-0.92429374,  0.88130113],\n",
       "       [ 0.55644294,  0.74689153],\n",
       "       [-0.34836832, -1.81101917],\n",
       "       [ 0.95789639,  1.22632133],\n",
       "       [-1.48331661,  0.13791604],\n",
       "       [ 1.19325258, -1.07572355],\n",
       "       [ 1.76768278, -0.34903246],\n",
       "       [-1.07539011,  1.37165804],\n",
       "       [ 0.29453214, -0.65313816],\n",
       "       [ 0.87978795, -1.95576713],\n",
       "       [ 1.81530638, -0.81625006],\n",
       "       [ 0.28598427, -0.39861617],\n",
       "       [ 0.43623211,  0.88792572],\n",
       "       [-0.8238861 ,  0.78636292],\n",
       "       [-0.29403325, -0.68785951],\n",
       "       [-0.22404361, -1.00460861],\n",
       "       [-0.79566757,  0.94913384],\n",
       "       [-0.15082304,  1.1415331 ],\n",
       "       [ 0.43175699, -1.0259683 ],\n",
       "       [-1.89787143, -0.68724182],\n",
       "       [ 0.26412649,  0.00881292],\n",
       "       [-0.83009562,  1.0128123 ],\n",
       "       [-1.7457235 , -1.25864659],\n",
       "       [ 0.1272951 ,  2.19376315],\n",
       "       [ 0.41393413, -1.00523966],\n",
       "       [ 0.59265714,  0.68339657],\n",
       "       [ 0.93785693, -0.40986453],\n",
       "       [-0.79972644,  0.11821728],\n",
       "       [ 0.41527488,  1.59823525],\n",
       "       [ 2.08964887, -0.73306993],\n",
       "       [-0.52297163, -0.06357308],\n",
       "       [-0.24977211,  0.48579018],\n",
       "       [ 0.48573721,  0.25789698],\n",
       "       [ 1.34407129, -0.15851092],\n",
       "       [-1.05080794, -1.56060123],\n",
       "       [-1.02813987, -1.04425792],\n",
       "       [-1.88342383,  0.66318777],\n",
       "       [ 0.18526784, -0.42279273],\n",
       "       [-0.88988898, -1.58094538],\n",
       "       [-0.9197196 ,  1.84790906],\n",
       "       [-2.21079164,  0.14181052],\n",
       "       [ 0.74363697,  0.13613223],\n",
       "       [-0.31680492,  0.76807394],\n",
       "       [-1.10332826,  0.555545  ],\n",
       "       [ 1.43069737, -1.04137439],\n",
       "       [-0.81983341,  0.13594038],\n",
       "       [ 0.9895728 ,  1.3391483 ],\n",
       "       [ 0.68062695, -0.66950277],\n",
       "       [-1.11441271,  0.24297858],\n",
       "       [ 0.39825763, -1.10055231],\n",
       "       [ 0.05979049,  0.33223747],\n",
       "       [ 1.04506399, -0.9905627 ],\n",
       "       [ 0.55696453, -1.1692758 ],\n",
       "       [-0.42658598, -0.07827675],\n",
       "       [ 1.51791626,  3.31430424],\n",
       "       [ 0.25354568,  0.4952915 ],\n",
       "       [ 1.00754161, -1.36165622],\n",
       "       [ 0.7656634 , -1.24173986],\n",
       "       [ 1.62911197,  1.44349176],\n",
       "       [ 0.50153968, -0.80669851],\n",
       "       [ 1.66802527,  0.25968837],\n",
       "       [ 0.11024354,  0.57954335],\n",
       "       [-1.71234657,  0.42849942],\n",
       "       [ 0.99610815,  0.33900098],\n",
       "       [ 0.14525875, -0.95365812],\n",
       "       [ 0.64355483,  0.20046895],\n",
       "       [ 0.00906379, -0.56320492],\n",
       "       [ 0.85617111,  1.24718437],\n",
       "       [ 0.38814617,  0.89674907],\n",
       "       [ 1.3260233 ,  1.58816115],\n",
       "       [ 0.22565015, -0.21332802],\n",
       "       [-0.41494587,  0.01374701],\n",
       "       [ 0.55196641,  0.93818194],\n",
       "       [-0.42674202,  0.14985756],\n",
       "       [-0.99658002,  1.26396401],\n",
       "       [-0.39146105,  0.35792113],\n",
       "       [-0.71937006, -0.29827604],\n",
       "       [-0.6859961 ,  1.70496656],\n",
       "       [ 0.35936374, -0.16644467],\n",
       "       [-0.94764232, -0.61029971],\n",
       "       [ 0.56870506,  1.66592502],\n",
       "       [-1.43088883, -0.91704656],\n",
       "       [-0.17578816, -0.62826735],\n",
       "       [-1.65918207,  0.01930975],\n",
       "       [ 0.75104255, -1.57711136],\n",
       "       [ 0.21095978,  0.96467291],\n",
       "       [ 0.98032733, -0.41987069],\n",
       "       [ 2.30474905,  0.5551134 ],\n",
       "       [-0.81106622,  0.98429894],\n",
       "       [-1.12258797,  0.89526945],\n",
       "       [-1.26205434,  0.79054257],\n",
       "       [-0.58356177,  1.13228806],\n",
       "       [ 0.74067741,  0.44720792],\n",
       "       [ 0.05863243,  1.08701626],\n",
       "       [-1.80334191,  0.43255434],\n",
       "       [ 0.4134327 ,  0.56214989],\n",
       "       [ 0.82622882,  3.70245824],\n",
       "       [ 0.11678267,  0.80449953],\n",
       "       [ 0.1523685 ,  1.57266807],\n",
       "       [-2.02081048,  1.69794753],\n",
       "       [-0.68380642, -2.26224129],\n",
       "       [-1.07818558, -0.17451934],\n",
       "       [ 0.19424525, -0.04589136],\n",
       "       [ 0.81681772, -0.03517699],\n",
       "       [-0.0631976 , -2.14351553],\n",
       "       [ 0.48734407,  1.0102417 ],\n",
       "       [-0.42067283, -1.8770843 ],\n",
       "       [-1.33650549,  1.67356164],\n",
       "       [-0.60620725, -0.66458388],\n",
       "       [-0.81945109,  0.68088412],\n",
       "       [-0.58784355, -0.86903192],\n",
       "       [-1.50636278, -0.10779898],\n",
       "       [ 1.00094767, -0.14793288],\n",
       "       [ 0.88221968,  0.17542639],\n",
       "       [ 0.14783687,  0.17897291],\n",
       "       [ 0.03444142,  1.02620502],\n",
       "       [ 0.4878529 , -0.57811068],\n",
       "       [ 0.12862005, -0.07596463],\n",
       "       [ 0.48493198,  0.18031665],\n",
       "       [ 0.41457794, -1.47732184],\n",
       "       [ 0.37959116,  1.31361206],\n",
       "       [-1.35019394,  1.60093254],\n",
       "       [ 0.29707272, -0.2077485 ],\n",
       "       [-1.80448815,  1.08759702],\n",
       "       [-0.96954954, -0.51119077],\n",
       "       [ 0.54590427, -1.02557987],\n",
       "       [-0.9868334 , -1.15128032],\n",
       "       [-0.11136018,  0.58853642],\n",
       "       [ 0.40300606,  0.40740281],\n",
       "       [-0.34418024,  0.14046942],\n",
       "       [-0.69004075,  1.99767531],\n",
       "       [ 0.19472715, -1.95498537],\n",
       "       [-1.0693078 ,  1.60130281],\n",
       "       [-1.36648729, -0.43769479],\n",
       "       [ 0.40362572, -1.09662368],\n",
       "       [ 1.0666047 ,  1.67908348],\n",
       "       [-0.82473917,  1.12929566],\n",
       "       [-0.89122301, -0.99794991],\n",
       "       [ 0.24568509,  0.23793134],\n",
       "       [-0.5960354 ,  0.84202424],\n",
       "       [-1.46918165, -0.85566594],\n",
       "       [-1.07786939,  0.75836367],\n",
       "       [ 0.8039022 ,  0.66694045],\n",
       "       [-1.29560047,  0.13276813],\n",
       "       [ 0.45765351, -1.61697998],\n",
       "       [-0.8216931 ,  0.64586234],\n",
       "       [ 0.70365416,  0.2552348 ],\n",
       "       [ 0.54207567,  0.32409606],\n",
       "       [ 0.14991872, -0.10925686],\n",
       "       [-0.87143223, -0.24554832],\n",
       "       [-0.40291494,  2.31777471],\n",
       "       [ 0.26024073, -0.01069513],\n",
       "       [-0.2319775 , -0.11520507],\n",
       "       [-0.27226691,  0.54470501],\n",
       "       [-0.02944483,  0.8110797 ],\n",
       "       [-0.69517609,  0.35023459],\n",
       "       [ 0.8771562 , -1.15425899],\n",
       "       [ 0.16777   ,  0.24706745],\n",
       "       [-0.33474727, -0.48716098],\n",
       "       [-1.85491011,  1.14882126]])"
      ]
     },
     "metadata": {},
     "execution_count": 7
    }
   ],
   "metadata": {}
  },
  {
   "cell_type": "code",
   "execution_count": 6,
   "source": [
    "np.random.seed(4)\r\n",
    "m = 60\r\n",
    "w1, w2 = 0.1, 0.3\r\n",
    "noise = 0.1\r\n",
    "\r\n",
    "angles = np.random.rand(m) * 3 * np.pi / 2 - 0.5\r\n",
    "X = np.empty((m, 3))\r\n",
    "X[:, 0] = np.cos(angles) + np.sin(angles)/2 + noise * np.random.randn(m) / 2\r\n",
    "X[:, 1] = np.sin(angles) * 0.7 + noise * np.random.randn(m) / 2\r\n",
    "X[:, 2] = X[:, 0] * w1 + X[:, 1] * w2 + noise * np.random.randn(m)"
   ],
   "outputs": [
    {
     "output_type": "stream",
     "name": "stdout",
     "text": [
      "그림 저장 pca_best_projection_plot\n"
     ]
    },
    {
     "output_type": "display_data",
     "data": {
      "image/png": "[encoded data removed]",
      "text/plain": [
       "<Figure size 576x288 with 4 Axes>"
      ]
     },
     "metadata": {
      "needs_background": "light"
     }
    }
   ],
   "metadata": {}
  },
  {
   "cell_type": "code",
   "execution_count": null,
   "source": [],
   "outputs": [],
   "metadata": {}
  }
 ],
 "metadata": {
  "orig_nbformat": 4,
  "language_info": {
   "name": "python",
   "version": "3.9.6",
   "mimetype": "text/x-python",
   "codemirror_mode": {
    "name": "ipython",
    "version": 3
   },
   "pygments_lexer": "ipython3",
   "nbconvert_exporter": "python",
   "file_extension": ".py"
  },
  "kernelspec": {
   "name": "python3",
   "display_name": "Python 3.9.6 64-bit"
  },
  "interpreter": {
   "hash": "5812e37fbc42ae0019c075dcd625ea6adf837b197758e07cfdfe5b415c77a600"
  }
 },
 "nbformat": 4,
 "nbformat_minor": 2
}